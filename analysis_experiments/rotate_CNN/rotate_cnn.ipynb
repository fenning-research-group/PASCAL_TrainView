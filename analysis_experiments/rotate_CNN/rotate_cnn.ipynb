{
 "cells": [
  {
   "cell_type": "code",
   "execution_count": 35,
   "metadata": {},
   "outputs": [],
   "source": [
    "from frgpascal.analysis.processing import load_all, compress_jv, get_worklist_times\n",
    "from frgpascal.analysis.brightfield import load_image\n",
    "from frgtrainview.analysis.crop import crop_pl\n",
    "from scipy import stats\n",
    "from natsort import natsorted\n",
    "from natsort import index_natsorted\n",
    "import copy\n",
    "from mpl_toolkits.axes_grid1 import make_axes_locatable\n",
    "import matplotlib.colorbar\n",
    "import seaborn as sns\n",
    "import warnings\n",
    "from tqdm import tqdm\n",
    "from matplotlib import style\n",
    "import numpy as np\n",
    "import pandas as pd\n",
    "import matplotlib as mpl\n",
    "import matplotlib.pyplot as plt\n",
    "from IPython.display import set_matplotlib_formats\n",
    "import os\n",
    "import json\n",
    "import pickle as pkl\n",
    "import time\n",
    "from PIL import Image\n",
    "\n",
    "# plotting settings\n",
    "# %config InlineBackend.figure_format = 'retina'\n",
    "mpl.rcParams.update(mpl.rcParamsDefault)\n",
    "mpl.rcParams[\"axes.linewidth\"] = 1.75  # set the value globally\n",
    "\n",
    "import os\n",
    "import glob\n",
    "import shutil"
   ]
  },
  {
   "cell_type": "code",
   "execution_count": 2,
   "metadata": {},
   "outputs": [],
   "source": [
    "source = '/Users/deniz/Documents/GitHub/PASCAL_TrainView/analysis_experiments/rotate_CNN/raw_data'\n",
    "destination = f'/Users/deniz/Documents/GitHub/PASCAL_TrainView/analysis_experiments/rotate_CNN/PL_images'"
   ]
  },
  {
   "cell_type": "code",
   "execution_count": 3,
   "metadata": {},
   "outputs": [],
   "source": [
    "# move just the PL images and add batch id to the file name\n",
    "for folder, subfolders, files in os.walk(source):\n",
    "    if folder != source:\n",
    "        for f in files:\n",
    "            if f.endswith(\"5000ms.tif\"):\n",
    "                # print(\"File Name: \", f)\n",
    "                # print(f\"Path: \", os.path.join(folder, f))\n",
    "                file_name_temp = f\n",
    "                file_path_temp = os.path.join(folder, f)\n",
    "                file_path_dir = os.path.dirname(file_path_temp)\n",
    "                batch_name = file_path_dir.split('_')[5].split('-')[0]\n",
    "                os.rename(f'{file_path_temp}', f'{file_path_dir}/{batch_name}_{file_name_temp}')\n",
    "                renamed_path_temp = os.path.join(file_path_dir, f'{batch_name}_{file_name_temp}')\n",
    "                shutil.move(renamed_path_temp, destination)"
   ]
  },
  {
   "cell_type": "code",
   "execution_count": 4,
   "metadata": {},
   "outputs": [],
   "source": [
    "crop_desitnation = '/Users/deniz/Documents/GitHub/PASCAL_TrainView/analysis_experiments/rotate_CNN/cropped_PL_images'\n",
    "source = '/Users/deniz/Documents/GitHub/PASCAL_TrainView/analysis_experiments/rotate_CNN/raw_PL_images'"
   ]
  },
  {
   "cell_type": "code",
   "execution_count": 38,
   "metadata": {},
   "outputs": [
    {
     "data": {
      "text/plain": [
       "'/Users/deniz/Documents/GitHub/PASCAL_TrainView/analysis_experiments/rotate_CNN/raw_PL_images/B14_sample22_plimage_5000ms.tif'"
      ]
     },
     "execution_count": 38,
     "metadata": {},
     "output_type": "execute_result"
    }
   ],
   "source": [
    "fids[0]"
   ]
  },
  {
   "cell_type": "code",
   "execution_count": 39,
   "metadata": {},
   "outputs": [
    {
     "data": {
      "text/plain": [
       "'B14_sample22_plimage_5000ms.tif'"
      ]
     },
     "execution_count": 39,
     "metadata": {},
     "output_type": "execute_result"
    }
   ],
   "source": [
    "os.path.basename(fids[0])"
   ]
  },
  {
   "cell_type": "code",
   "execution_count": 5,
   "metadata": {},
   "outputs": [],
   "source": [
    "# crop the PL images\n",
    "fids = glob.glob(f'{source}/*.tif')\n"
   ]
  },
  {
   "cell_type": "code",
   "execution_count": 43,
   "metadata": {},
   "outputs": [],
   "source": [
    "for fid in fids:\n",
    "    base_name = os.path.basename(fid)\n",
    "    temp_image = load_image(fid)\n",
    "    crop_image = crop_pl(np.uint8(temp_image * 255), output_shape=(256,256))[0]\n",
    "    Image.fromarray(crop_image).save(f'{crop_desitnation}/{base_name}')"
   ]
  },
  {
   "cell_type": "code",
   "execution_count": null,
   "metadata": {},
   "outputs": [],
   "source": []
  }
 ],
 "metadata": {
  "kernelspec": {
   "display_name": "Python 3.7.9 ('ds')",
   "language": "python",
   "name": "python3"
  },
  "language_info": {
   "codemirror_mode": {
    "name": "ipython",
    "version": 3
   },
   "file_extension": ".py",
   "mimetype": "text/x-python",
   "name": "python",
   "nbconvert_exporter": "python",
   "pygments_lexer": "ipython3",
   "version": "3.7.9"
  },
  "orig_nbformat": 4,
  "vscode": {
   "interpreter": {
    "hash": "c86dfbc17468201bf110f641e56a1df81e3c9871b3a7a52a78db9d9bb9a33d6a"
   }
  }
 },
 "nbformat": 4,
 "nbformat_minor": 2
}
