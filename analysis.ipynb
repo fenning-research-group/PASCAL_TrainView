{
 "cells": [
  {
   "cell_type": "code",
   "execution_count": null,
   "id": "2fa528bd",
   "metadata": {},
   "outputs": [],
   "source": [
    "from frgpascal.analysis.processing import load_all\n",
    "import matplotlib.pyplot as plt\n",
    "from pathlib import Path\n",
    "import json # load maestro logs\n",
    "import pandas as pd\n",
    "import numpy as np"
   ]
  },
  {
   "cell_type": "code",
   "execution_count": null,
   "id": "277f83ed",
   "metadata": {},
   "outputs": [],
   "source": [
    "# load a csv file\n",
    "\n",
    "path = 'data/20221011_B9-char_1/'\n",
    "metrics = pd.read_csv(path + 'fitted_characterization_metrics.csv')\n",
    "metrics"
   ]
  },
  {
   "cell_type": "code",
   "execution_count": null,
   "id": "495d5fb2",
   "metadata": {},
   "outputs": [],
   "source": [
    "plt.title('PL Intensity vs eV')\n",
    "plt.scatter(metrics['pl_peakev_0'], metrics['pl_intensity_0'])\n",
    "plt.ylabel('pl_intensity_0')\n",
    "plt.xlabel('pl_peakev_0')"
   ]
  },
  {
   "cell_type": "code",
   "execution_count": null,
   "id": "d10d7959",
   "metadata": {},
   "outputs": [],
   "source": [
    "# visualize the change in metrics over time\n",
    "# note a line graph only makes sense if the samples are indeed sequential\n",
    "\n",
    "columns = ['pl_intensity_0', 'pl_peakev_0', 'pl_fwhm_0', 'df_median_0', 'bf_inhomogeneity_0']\n",
    "nrows=len(columns)\n",
    "\n",
    "fig, ax = plt.subplots(nrows=nrows, ncols=1, sharex=True, figsize=(7,nrows*1.5))\n",
    "ax[0].set_title('Fitted Characterization Metrics')\n",
    "\n",
    "for i in range(nrows):\n",
    "    plt.subplot(nrows,1,i+1)\n",
    "    plt.ylabel(columns[i])\n",
    "    plt.plot(metrics[columns[i]])\n",
    "plt.xlabel('Sample Number')"
   ]
  },
  {
   "cell_type": "code",
   "execution_count": null,
   "id": "2fc75c5b",
   "metadata": {},
   "outputs": [],
   "source": [
    "from natsort import index_natsorted\n",
    "\n",
    "def load_all_sorted(chardir):\n",
    "\tmetricdf, rawdf = load_all(\n",
    "\t\tchardir,\n",
    "\t\tt_kwargs=dict(\n",
    "\t\t\twlmin=700,\n",
    "\t\t\twlmax=900\n",
    "\t\t)\n",
    "\t)\n",
    "\trawdf= rawdf.sort_values(\n",
    "   \t\tby='name',\n",
    "   \t\tkey=lambda x: np.argsort(index_natsorted(rawdf['name']))\n",
    "    )\n",
    "\trawdf = rawdf.reset_index(drop=True)\n",
    "\n",
    "\n",
    "\tmetricdf= metricdf.sort_values(\n",
    "    \tby='name',\n",
    "    \tkey=lambda x: np.argsort(index_natsorted(metricdf['name']))\n",
    "    )\n",
    "\tmetricdf = metricdf.reset_index(drop=True)\n",
    "\treturn metricdf, rawdf"
   ]
  },
  {
   "cell_type": "code",
   "execution_count": null,
   "id": "a95c2633",
   "metadata": {},
   "outputs": [],
   "source": [
    "chardir_0 = 'data/20221011_B9-char_1/Characterization/'\n",
    "metricdf, rawdf = load_all_sorted(chardir_0)"
   ]
  },
  {
   "cell_type": "code",
   "execution_count": null,
   "id": "eed27bbd",
   "metadata": {},
   "outputs": [],
   "source": [
    "metricdf.columns"
   ]
  },
  {
   "cell_type": "code",
   "execution_count": null,
   "id": "cc994cbd",
   "metadata": {},
   "outputs": [],
   "source": [
    "# determine what type of data\n",
    "for c in rawdf.columns:\n",
    "    print(c, type(rawdf[c][0]))\n",
    "print('pl_0 keys: ' + str(rawdf['pl_0'][0].keys()))\n",
    "print('pl_0[\"wl\"] shape: ' + str(rawdf['pl_0'][0]['wl'].shape))\n",
    "print('pl_0[\"cps\"] shape: ' + str(rawdf['pl_0'][0]['cps'].shape))\n",
    "\n",
    "print('t_0 keys: ' + str(rawdf['t_0'][0].keys()))\n",
    "print('t_0[\"wl\"] shape: ' + str(rawdf['t_0'][0]['wl'].shape))\n",
    "print('t_0[\"t\"] shape: ' + str(rawdf['t_0'][0]['t'].shape))\n",
    "print('t_0[\"a\"] shape: ' + str(rawdf['t_0'][0]['a'].shape))\n",
    "\n",
    "print('df_0 shape: ' + str(rawdf['df_0'][0].shape))\n",
    "print('bf_0 shape: ' + str(rawdf['bf_0'][0].shape))\n",
    "print('plimg_0 shape: ' + str(rawdf['plimg_0'][0].shape))\n",
    "\n",
    "rawdf.head(1)"
   ]
  },
  {
   "cell_type": "code",
   "execution_count": null,
   "id": "106297fb",
   "metadata": {},
   "outputs": [],
   "source": [
    "# plot images\n",
    "\n",
    "fig, ax = plt.subplots(1,3, figsize=(16,10))\n",
    "i=20\n",
    "\n",
    "ax[0].imshow(rawdf['df_0'][i][:,:,0], cmap='gray')\n",
    "ax[1].imshow(rawdf['bf_0'][i])\n",
    "ax[2].imshow(rawdf['plimg_0'][i][:,:,0]) # use red channel for PL measurements, since that's what bandgap energy is"
   ]
  },
  {
   "cell_type": "code",
   "execution_count": null,
   "id": "fc146ab9",
   "metadata": {},
   "outputs": [],
   "source": [
    "# plot histograms showing image rgb channel intensities\n",
    "\n",
    "n_bins = 50\n",
    "fig, ax = plt.subplots(3,3, figsize=(18,10), sharex='col', sharey='col')\n",
    "\n",
    "imgs = ['df_0','bf_0','plimg_0']\n",
    "colors = ['tab:red','tab:green','tab:blue']\n",
    "\n",
    "for x in range(3):\n",
    "    for y in range(3):\n",
    "        ax[y,x].set_title(f'{x},{y}')\n",
    "        ax[y,x].hist(\n",
    "            rawdf[imgs[x]][i][:,:,y].flatten(),\n",
    "            bins=n_bins,\n",
    "            color=colors[y]\n",
    "            )"
   ]
  },
  {
   "cell_type": "code",
   "execution_count": null,
   "id": "c878efca",
   "metadata": {},
   "outputs": [],
   "source": [
    "# try overlaying bf/df/pl images to see how it looks\n",
    "\n",
    "# try each of the 3 possible two-image combinations\n",
    "# for now the \"filter\" is simple multiplication\n",
    "fig, ax = plt.subplots(1,3, figsize=(16,10))\n",
    "\n",
    "ax[0].set_title('df * bf')\n",
    "ax[1].set_title('bf * pl')\n",
    "ax[2].set_title('pl * df')\n",
    "\n",
    "ax[0].imshow(rawdf['df_0'][i][:,:,0] * rawdf['bf_0'][i][:,:,0]) # df * bf\n",
    "ax[1].imshow(rawdf['bf_0'][i][:,:,0] * rawdf['plimg_0'][i][:,:,0]) # bf * pl\n",
    "ax[2].imshow(rawdf['plimg_0'][i][:,:,0] * rawdf['df_0'][i][:,:,0]) # pl * df"
   ]
  },
  {
   "cell_type": "code",
   "execution_count": null,
   "id": "ebcfbf5d",
   "metadata": {},
   "outputs": [],
   "source": [
    "# plot the pl and transmission spectra\n",
    "\n",
    "fig, ax_pl = plt.subplots(figsize=(8,6))\n",
    "ax_pl.plot(rawdf['pl_0'][i]['wl'], rawdf['pl_0'][i]['cps'])\n",
    "ax_pl.set_xlabel('Wavelength [nm]')\n",
    "ax_pl.set_ylabel('Intensity [cps]')\n",
    "\n",
    "ax_t = ax_pl.twinx()\n",
    "ax_t.set_ylabel('Transmission/Absorption')\n",
    "\n",
    "ax_t.set_ylim(0, 3)\n",
    "ax_t.plot(rawdf['t_0'][i]['wl'], rawdf['t_0'][i]['t'], color='tab:orange')\n",
    "ax_t.plot(rawdf['t_0'][i]['wl'], rawdf['t_0'][i]['a'], color='tab:green')\n",
    "\n",
    "fig.legend(['PL', 'T', 'A'])\n",
    "plt.title('PL and Transmission Spectra')"
   ]
  },
  {
   "cell_type": "code",
   "execution_count": null,
   "id": "e3ae95e7",
   "metadata": {},
   "outputs": [],
   "source": []
  },
  {
   "cell_type": "code",
   "execution_count": null,
   "id": "9ad360d5",
   "metadata": {},
   "outputs": [],
   "source": []
  }
 ],
 "metadata": {
  "kernelspec": {
   "display_name": "Python 3.9.12 ('base')",
   "language": "python",
   "name": "python3"
  },
  "language_info": {
   "codemirror_mode": {
    "name": "ipython",
    "version": 3
   },
   "file_extension": ".py",
   "mimetype": "text/x-python",
   "name": "python",
   "nbconvert_exporter": "python",
   "pygments_lexer": "ipython3",
   "version": "3.9.12"
  },
  "vscode": {
   "interpreter": {
    "hash": "4620939d686fe3a1d6ed9f894bf0327e1a80bf4549cdbfeea9c406721c3f28d7"
   }
  }
 },
 "nbformat": 4,
 "nbformat_minor": 5
}
