{
 "cells": [
  {
   "cell_type": "markdown",
   "metadata": {},
   "source": [
    "# PASCAL Data Directory Analysis\n",
    "An analysis of the PASCAL data directory structure.\n",
    "\n",
    "Gathers and plots:\n",
    "- the number of files in each folder\n",
    "- the types of files in each folder (csv, json, tif, etc)\n",
    "- the size of files in each folder"
   ]
  },
  {
   "cell_type": "code",
   "execution_count": 18,
   "metadata": {},
   "outputs": [],
   "source": [
    "import os\n",
    "import glob\n",
    "import time"
   ]
  },
  {
   "cell_type": "code",
   "execution_count": 17,
   "metadata": {},
   "outputs": [
    {
     "data": {
      "text/plain": [
       "['20211028_passivation_absorbers_round1',\n",
       " '20211029_SPA1_passivations_andwashafterchar',\n",
       " '20211029_remeasure_deniz_spa1_absorbers',\n",
       " '20211029_spa1_afterwash',\n",
       " '20211029_spa1_afterwash2',\n",
       " '20220404 Sam Tuning with 125C.ipynb',\n",
       " '20220429_PbX2 Loading Optimization_1',\n",
       " '20220501_Time_trend_fromMK',\n",
       " '20220503_Drop_optimization',\n",
       " '20220503_Drop_optimization_1',\n",
       " '20220504_20220504_PIN_Half_Cells',\n",
       " '20220505_20220505_Annealing_Optimization',\n",
       " '20220506_20220506_P3AT_Spin_Optimization',\n",
       " '20220506_PL_Holdout_halfcells',\n",
       " '20220510_20220510_3xHalide_MACl_films',\n",
       " '20220510_20220510_3xHalide_MACl_halfcells',\n",
       " '20220511_20220511_3xHalide_MACl_mix_films',\n",
       " '20220516_20220516_3A3X_halfcells',\n",
       " '20220517_20220517_3A3X_AS_tip_optimization',\n",
       " '20220523_20220523_3A3X_Xu-recipe',\n",
       " '20220523_20220523_3A3X_Xu-recipe-prerun',\n",
       " '20220524_20220524_3A3X_Xu-halfcells',\n",
       " '20220728_20220727_3A3X_T1_halfcells_CHAR',\n",
       " '20220808_20220807_3A3X_T2_halfcells_2',\n",
       " '20220815_3A3X-A3',\n",
       " '20220816_3A3X-B3',\n",
       " '20220816_CEC2-Guillermo_etoh',\n",
       " '20220816_CEC2-Guillermo_etoh_low',\n",
       " '20220825_3A3X-B4_4',\n",
       " '20220829_3A3X-B5_posthtl',\n",
       " '20220831_3A3X-B6_1',\n",
       " '20220906_3A3X-B7-CharOnly_1',\n",
       " '20220908_3A3X-B7-CharOnly_2_1',\n",
       " '20220929_B8-char',\n",
       " '20220929_B8-htl',\n",
       " '20220929_B8-psk',\n",
       " '20220929_B8-pskb',\n",
       " '20220929_B8-pskc',\n",
       " '20221011_B9-char_1',\n",
       " '20221011_B9-htl',\n",
       " '20221011_B9-psk']"
      ]
     },
     "execution_count": 17,
     "metadata": {},
     "output_type": "execute_result"
    }
   ],
   "source": [
    "base_dir = '../fenning-lab-drive/StaffFolders/Deniz Cakan/PASCAL_filedrop'\n",
    "\n",
    "# see how many batches are in the base_dir\n",
    "batch_dirs = os.listdir(base_dir)\n",
    "batch_dirs"
   ]
  },
  {
   "cell_type": "code",
   "execution_count": 27,
   "metadata": {},
   "outputs": [
    {
     "data": {
      "text/plain": [
       "[('20211028_passivation_absorbers_round1', 'Thu Oct 28 20:31:10 2021'),\n",
       " ('20211029_SPA1_passivations_andwashafterchar', 'Fri Oct 29 18:25:18 2021'),\n",
       " ('20211029_remeasure_deniz_spa1_absorbers', 'Fri Oct 29 10:37:59 2021'),\n",
       " ('20211029_spa1_afterwash', 'Fri Oct 29 18:40:10 2021'),\n",
       " ('20211029_spa1_afterwash2', 'Fri Oct 29 23:01:20 2021'),\n",
       " ('20220404 Sam Tuning with 125C.ipynb', 'Tue Apr  5 13:58:30 2022'),\n",
       " ('20220429_PbX2 Loading Optimization_1', 'Fri Apr 29 19:39:41 2022'),\n",
       " ('20220501_Time_trend_fromMK', 'Wed May 18 20:06:16 2022'),\n",
       " ('20220503_Drop_optimization', 'Tue May  3 22:24:03 2022'),\n",
       " ('20220503_Drop_optimization_1', 'Tue May  3 23:04:38 2022'),\n",
       " ('20220504_20220504_PIN_Half_Cells', 'Wed May  4 20:06:39 2022'),\n",
       " ('20220505_20220505_Annealing_Optimization', 'Thu May  5 19:55:06 2022'),\n",
       " ('20220506_20220506_P3AT_Spin_Optimization', 'Fri May  6 20:06:27 2022'),\n",
       " ('20220506_PL_Holdout_halfcells', 'Fri May  6 20:40:13 2022'),\n",
       " ('20220510_20220510_3xHalide_MACl_films', 'Tue May 10 20:26:27 2022'),\n",
       " ('20220510_20220510_3xHalide_MACl_halfcells', 'Wed May 11 01:04:39 2022'),\n",
       " ('20220511_20220511_3xHalide_MACl_mix_films', 'Wed May 11 15:36:03 2022'),\n",
       " ('20220516_20220516_3A3X_halfcells', 'Tue May 17 02:47:41 2022'),\n",
       " ('20220517_20220517_3A3X_AS_tip_optimization', 'Tue May 17 17:36:12 2022'),\n",
       " ('20220523_20220523_3A3X_Xu-recipe', 'Mon May 23 22:00:01 2022'),\n",
       " ('20220523_20220523_3A3X_Xu-recipe-prerun', 'Mon May 23 17:46:31 2022'),\n",
       " ('20220524_20220524_3A3X_Xu-halfcells', 'Wed May 25 02:46:44 2022'),\n",
       " ('20220728_20220727_3A3X_T1_halfcells_CHAR', 'Thu Jul 28 16:50:14 2022'),\n",
       " ('20220808_20220807_3A3X_T2_halfcells_2', 'Mon Aug  8 05:07:56 2022'),\n",
       " ('20220815_3A3X-A3', 'Tue Aug 16 02:00:11 2022'),\n",
       " ('20220816_3A3X-B3', 'Tue Aug 16 07:22:49 2022'),\n",
       " ('20220816_CEC2-Guillermo_etoh', 'Tue Aug 16 18:45:26 2022'),\n",
       " ('20220816_CEC2-Guillermo_etoh_low', 'Tue Aug 16 21:15:10 2022'),\n",
       " ('20220825_3A3X-B4_4', 'Thu Aug 25 19:17:11 2022'),\n",
       " ('20220829_3A3X-B5_posthtl', 'Tue Aug 30 00:54:06 2022'),\n",
       " ('20220831_3A3X-B6_1', 'Tue Oct 11 16:02:45 2022'),\n",
       " ('20220906_3A3X-B7-CharOnly_1', 'Wed Sep  7 01:23:06 2022'),\n",
       " ('20220908_3A3X-B7-CharOnly_2_1', 'Thu Sep  8 14:17:07 2022'),\n",
       " ('20220929_B8-char', 'Thu Sep 29 20:41:54 2022'),\n",
       " ('20220929_B8-htl', 'Thu Sep 29 15:16:31 2022'),\n",
       " ('20220929_B8-psk', 'Thu Sep 29 15:28:09 2022'),\n",
       " ('20220929_B8-pskb', 'Thu Sep 29 17:28:33 2022'),\n",
       " ('20220929_B8-pskc', 'Thu Sep 29 18:37:55 2022'),\n",
       " ('20221011_B9-char_1', 'Tue Oct 11 20:04:06 2022'),\n",
       " ('20221011_B9-htl', 'Tue Oct 11 14:33:59 2022'),\n",
       " ('20221011_B9-psk', 'Tue Oct 11 18:20:37 2022')]"
      ]
     },
     "execution_count": 27,
     "metadata": {},
     "output_type": "execute_result"
    }
   ],
   "source": [
    "# get modification time\n",
    "dates = []\n",
    "for b in batch_dirs:\n",
    "    fullpath = os.path.join(base_dir, b)\n",
    "    dates.append(time.ctime(os.path.getctime(fullpath)))\n",
    "\n",
    "list(zip(batch_dirs, dates))"
   ]
  },
  {
   "cell_type": "code",
   "execution_count": null,
   "metadata": {},
   "outputs": [],
   "source": []
  }
 ],
 "metadata": {
  "kernelspec": {
   "display_name": "Python 3.9.12 ('base')",
   "language": "python",
   "name": "python3"
  },
  "language_info": {
   "codemirror_mode": {
    "name": "ipython",
    "version": 3
   },
   "file_extension": ".py",
   "mimetype": "text/x-python",
   "name": "python",
   "nbconvert_exporter": "python",
   "pygments_lexer": "ipython3",
   "version": "3.9.12"
  },
  "orig_nbformat": 4,
  "vscode": {
   "interpreter": {
    "hash": "4620939d686fe3a1d6ed9f894bf0327e1a80bf4549cdbfeea9c406721c3f28d7"
   }
  }
 },
 "nbformat": 4,
 "nbformat_minor": 2
}
